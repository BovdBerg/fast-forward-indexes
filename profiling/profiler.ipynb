{
 "cells": [
  {
   "cell_type": "markdown",
   "metadata": {},
   "source": [
    "The profiles can be viewed by running in the Linux command line:\n",
    "```\n",
    "tuna path/to/rerank_ff.prof --port=8000\n",
    "```"
   ]
  },
  {
   "cell_type": "code",
   "execution_count": 1,
   "metadata": {},
   "outputs": [],
   "source": [
    "# SETTINGS\n",
    "device_type = \"cpu\" # \"cpu\" or \"gpu\"\n",
    "k_s = 1000\n",
    "in_memory = False\n",
    "h5_filename = \"ff_msmarco-v1-passage.tct_colbert.h5\""
   ]
  },
  {
   "cell_type": "code",
   "execution_count": 3,
   "metadata": {},
   "outputs": [
    {
     "name": "stderr",
     "output_type": "stream",
     "text": [
      "INFO:numexpr.utils:Note: NumExpr detected 12 cores but \"NUMEXPR_MAX_THREADS\" not set, so enforcing safe limit of 8.\n",
      "INFO:numexpr.utils:NumExpr defaulting to 8 threads.\n",
      "PyTerrier 0.10.0 has loaded Terrier 5.8 (built by craigm on 2023-11-01 18:05) and terrier-helper 0.0.8\n",
      "\n",
      "No etc/terrier.properties, using terrier.default.properties for bootstrap configuration.\n"
     ]
    }
   ],
   "source": [
    "import os\n",
    "import logging\n",
    "import pyterrier as pt\n",
    "import datetime\n",
    "\n",
    "os.environ[\"JAVA_HOME\"] = \"/usr/lib/jvm/java-21-openjdk-amd64\"\n",
    "logging.basicConfig(level=logging.INFO)\n",
    "\n",
    "if not pt.started():\n",
    "    pt.init(tqdm=\"notebook\")\n",
    "\n",
    "# Create profile directory\n",
    "mem = \"mem\" if in_memory else \"disk\"\n",
    "profile_dir = f\"profiles/{h5_filename}/{device_type}_k{k_s}_{mem}/\"\n",
    "if not os.path.exists(profile_dir):\n",
    "    os.makedirs(profile_dir)\n",
    "\n",
    "device_name = \"cuda\" if device_type == \"gpu\" else \"cpu\""
   ]
  },
  {
   "cell_type": "code",
   "execution_count": 5,
   "metadata": {},
   "outputs": [
    {
     "name": "stderr",
     "output_type": "stream",
     "text": [
      "100%|██████████| 57638/57638 [00:00<00:00, 183651.77it/s]\n"
     ]
    }
   ],
   "source": [
    "from pathlib import Path\n",
    "from fast_forward import OnDiskIndex, Mode, Ranking\n",
    "from fast_forward.encoder import TCTColBERTQueryEncoder\n",
    "import cProfile\n",
    "import pstats\n",
    "\n",
    "with cProfile.Profile() as profile:\n",
    "    q_encoder = TCTColBERTQueryEncoder(\n",
    "        \"castorini/tct_colbert-msmarco\", \n",
    "        device=device_name\n",
    "    )\n",
    "    ff_index = OnDiskIndex.load(\n",
    "        Path(f\"../../{h5_filename}\"), \n",
    "        query_encoder=q_encoder, \n",
    "        mode=Mode.MAXP\n",
    "    )\n",
    "\n",
    "    if in_memory:\n",
    "        ff_index = ff_index.to_memory()\n",
    "\n",
    "stats = pstats.Stats(profile)\n",
    "stats.sort_stats(pstats.SortKey.TIME)\n",
    "stats.dump_stats(profile_dir + \"index.prof\")"
   ]
  },
  {
   "cell_type": "code",
   "execution_count": 6,
   "metadata": {},
   "outputs": [
    {
     "data": {
      "application/vnd.jupyter.widget-view+json": {
       "model_id": "1020adf4e4dc481c9d53c8c4680df2da",
       "version_major": 2,
       "version_minor": 0
      },
      "text/plain": [
       "beir/fiqa documents:   0%|          | 0/57638 [00:00<?, ?it/s]"
      ]
     },
     "metadata": {},
     "output_type": "display_data"
    }
   ],
   "source": [
    "import ir_datasets\n",
    "dataset = ir_datasets.load(\"msmarco-passage/trec-dl-2019/judged\")\n",
    "r = Ranking.from_file(\n",
    "    Path(\"../../msmarco-passage-test2019-sparse10000.txt\"),\n",
    "    {q.query_id: q.text for q in dataset.queries_iter()},\n",
    ")"
   ]
  },
  {
   "cell_type": "code",
   "execution_count": 7,
   "metadata": {},
   "outputs": [
    {
     "ename": "AttributeError",
     "evalue": "'DataFrame' object has no attribute 'has_queries'",
     "output_type": "error",
     "traceback": [
      "\u001b[0;31m---------------------------------------------------------------------------\u001b[0m",
      "\u001b[0;31mAttributeError\u001b[0m                            Traceback (most recent call last)",
      "\u001b[0;32m/tmp/ipykernel_363683/93831865.py\u001b[0m in \u001b[0;36m?\u001b[0;34m()\u001b[0m\n\u001b[1;32m      1\u001b[0m \u001b[0;31m# standard re-ranking, probably takes a few min\u001b[0m\u001b[0;34m\u001b[0m\u001b[0;34m\u001b[0m\u001b[0m\n\u001b[1;32m      2\u001b[0m \u001b[0;32mwith\u001b[0m \u001b[0mcProfile\u001b[0m\u001b[0;34m.\u001b[0m\u001b[0mProfile\u001b[0m\u001b[0;34m(\u001b[0m\u001b[0;34m)\u001b[0m \u001b[0;32mas\u001b[0m \u001b[0mrerank_ff\u001b[0m\u001b[0;34m:\u001b[0m\u001b[0;34m\u001b[0m\u001b[0;34m\u001b[0m\u001b[0m\n\u001b[1;32m      3\u001b[0m     \u001b[0;31m# ff_out = ff_index(r.cut(k_s))\u001b[0m\u001b[0;34m\u001b[0m\u001b[0;34m\u001b[0m\u001b[0m\n\u001b[0;32m----> 4\u001b[0;31m     \u001b[0mff_out\u001b[0m \u001b[0;34m=\u001b[0m \u001b[0mff_index\u001b[0m\u001b[0;34m(\u001b[0m\u001b[0mr\u001b[0m\u001b[0;34m)\u001b[0m\u001b[0;34m\u001b[0m\u001b[0;34m\u001b[0m\u001b[0m\n\u001b[0m\u001b[1;32m      5\u001b[0m \u001b[0;34m\u001b[0m\u001b[0m\n\u001b[1;32m      6\u001b[0m \u001b[0mresults_rerank_normal\u001b[0m \u001b[0;34m=\u001b[0m \u001b[0mpstats\u001b[0m\u001b[0;34m.\u001b[0m\u001b[0mStats\u001b[0m\u001b[0;34m(\u001b[0m\u001b[0mrerank_ff\u001b[0m\u001b[0;34m)\u001b[0m\u001b[0;34m\u001b[0m\u001b[0;34m\u001b[0m\u001b[0m\n\u001b[1;32m      7\u001b[0m \u001b[0mresults_rerank_normal\u001b[0m\u001b[0;34m.\u001b[0m\u001b[0msort_stats\u001b[0m\u001b[0;34m(\u001b[0m\u001b[0mpstats\u001b[0m\u001b[0;34m.\u001b[0m\u001b[0mSortKey\u001b[0m\u001b[0;34m.\u001b[0m\u001b[0mTIME\u001b[0m\u001b[0;34m)\u001b[0m\u001b[0;34m\u001b[0m\u001b[0;34m\u001b[0m\u001b[0m\n",
      "\u001b[0;32m~/miniconda3/envs/thesis/lib/python3.10/site-packages/fast_forward/index/__init__.py\u001b[0m in \u001b[0;36m?\u001b[0;34m(self, ranking, early_stopping, early_stopping_alpha, early_stopping_intervals)\u001b[0m\n\u001b[1;32m    381\u001b[0m         \u001b[0mRaises\u001b[0m\u001b[0;34m:\u001b[0m\u001b[0;34m\u001b[0m\u001b[0;34m\u001b[0m\u001b[0m\n\u001b[1;32m    382\u001b[0m             \u001b[0mValueError\u001b[0m\u001b[0;34m:\u001b[0m \u001b[0mWhen\u001b[0m \u001b[0mthe\u001b[0m \u001b[0mranking\u001b[0m \u001b[0mhas\u001b[0m \u001b[0mno\u001b[0m \u001b[0mqueries\u001b[0m \u001b[0mattached\u001b[0m\u001b[0;34m.\u001b[0m\u001b[0;34m\u001b[0m\u001b[0;34m\u001b[0m\u001b[0m\n\u001b[1;32m    383\u001b[0m             \u001b[0mValueError\u001b[0m\u001b[0;34m:\u001b[0m \u001b[0mWhen\u001b[0m \u001b[0mearly\u001b[0m \u001b[0mstopping\u001b[0m \u001b[0;32mis\u001b[0m \u001b[0menabled\u001b[0m \u001b[0mbut\u001b[0m \u001b[0marguments\u001b[0m \u001b[0mare\u001b[0m \u001b[0mmissing\u001b[0m\u001b[0;34m.\u001b[0m\u001b[0;34m\u001b[0m\u001b[0;34m\u001b[0m\u001b[0m\n\u001b[1;32m    384\u001b[0m         \"\"\"\n\u001b[0;32m--> 385\u001b[0;31m         \u001b[0;32mif\u001b[0m \u001b[0;32mnot\u001b[0m \u001b[0mranking\u001b[0m\u001b[0;34m.\u001b[0m\u001b[0mhas_queries\u001b[0m\u001b[0;34m:\u001b[0m\u001b[0;34m\u001b[0m\u001b[0;34m\u001b[0m\u001b[0m\n\u001b[0m\u001b[1;32m    386\u001b[0m             \u001b[0;32mraise\u001b[0m \u001b[0mValueError\u001b[0m\u001b[0;34m(\u001b[0m\u001b[0;34m\"Input ranking has no queries attached.\"\u001b[0m\u001b[0;34m)\u001b[0m\u001b[0;34m\u001b[0m\u001b[0;34m\u001b[0m\u001b[0m\n\u001b[1;32m    387\u001b[0m         if early_stopping is not None and (\n\u001b[1;32m    388\u001b[0m             \u001b[0mearly_stopping_alpha\u001b[0m \u001b[0;32mis\u001b[0m \u001b[0;32mNone\u001b[0m \u001b[0;32mor\u001b[0m \u001b[0mearly_stopping_intervals\u001b[0m \u001b[0;32mis\u001b[0m \u001b[0;32mNone\u001b[0m\u001b[0;34m\u001b[0m\u001b[0;34m\u001b[0m\u001b[0m\n",
      "\u001b[0;32m~/miniconda3/envs/thesis/lib/python3.10/site-packages/pandas/core/generic.py\u001b[0m in \u001b[0;36m?\u001b[0;34m(self, name)\u001b[0m\n\u001b[1;32m   6292\u001b[0m             \u001b[0;32mand\u001b[0m \u001b[0mname\u001b[0m \u001b[0;32mnot\u001b[0m \u001b[0;32min\u001b[0m \u001b[0mself\u001b[0m\u001b[0;34m.\u001b[0m\u001b[0m_accessors\u001b[0m\u001b[0;34m\u001b[0m\u001b[0;34m\u001b[0m\u001b[0m\n\u001b[1;32m   6293\u001b[0m             \u001b[0;32mand\u001b[0m \u001b[0mself\u001b[0m\u001b[0;34m.\u001b[0m\u001b[0m_info_axis\u001b[0m\u001b[0;34m.\u001b[0m\u001b[0m_can_hold_identifiers_and_holds_name\u001b[0m\u001b[0;34m(\u001b[0m\u001b[0mname\u001b[0m\u001b[0;34m)\u001b[0m\u001b[0;34m\u001b[0m\u001b[0;34m\u001b[0m\u001b[0m\n\u001b[1;32m   6294\u001b[0m         ):\n\u001b[1;32m   6295\u001b[0m             \u001b[0;32mreturn\u001b[0m \u001b[0mself\u001b[0m\u001b[0;34m[\u001b[0m\u001b[0mname\u001b[0m\u001b[0;34m]\u001b[0m\u001b[0;34m\u001b[0m\u001b[0;34m\u001b[0m\u001b[0m\n\u001b[0;32m-> 6296\u001b[0;31m         \u001b[0;32mreturn\u001b[0m \u001b[0mobject\u001b[0m\u001b[0;34m.\u001b[0m\u001b[0m__getattribute__\u001b[0m\u001b[0;34m(\u001b[0m\u001b[0mself\u001b[0m\u001b[0;34m,\u001b[0m \u001b[0mname\u001b[0m\u001b[0;34m)\u001b[0m\u001b[0;34m\u001b[0m\u001b[0;34m\u001b[0m\u001b[0m\n\u001b[0m",
      "\u001b[0;31mAttributeError\u001b[0m: 'DataFrame' object has no attribute 'has_queries'"
     ]
    }
   ],
   "source": [
    "# standard re-ranking, probably takes a few min\n",
    "with cProfile.Profile() as profile:\n",
    "    ff_out = ff_index(r.cut(k_s))\n",
    "\n",
    "stats = pstats.Stats(profile)\n",
    "stats.sort_stats(pstats.SortKey.TIME)\n",
    "stats.dump_stats(profile_dir + \"rerank_ff.prof\")"
   ]
  },
  {
   "cell_type": "code",
   "execution_count": null,
   "metadata": {},
   "outputs": [
    {
     "name": "stderr",
     "output_type": "stream",
     "text": [
      "INFO:fast_forward.index:depth 800: 16 queries left\n",
      "INFO:fast_forward.index:depth 5000: 16 queries left\n",
      "INFO:fast_forward.index:computed scores in 167.9565338829998 seconds\n"
     ]
    }
   ],
   "source": [
    "# re-ranking with early stopping, also takes a few min\n",
    "with cProfile.Profile() as profile:\n",
    "    ff_out_es = ff_index(\n",
    "        r.cut(k_s),\n",
    "        early_stopping=10,\n",
    "        early_stopping_alpha=0.2,\n",
    "        early_stopping_intervals=(800, 5000),\n",
    "    )\n",
    "\n",
    "stats = pstats.Stats(profile)\n",
    "stats.sort_stats(pstats.SortKey.TIME)\n",
    "stats.dump_stats(profile_dir + \"rerank_ff_es.prof\")"
   ]
  },
  {
   "cell_type": "code",
   "execution_count": null,
   "metadata": {},
   "outputs": [
    {
     "name": "stdout",
     "output_type": "stream",
     "text": [
      "Lexical retrieval without re-ranking:\n",
      " {RR(rel=2)@10: 0.7024178663713547, AP(rel=2)@1000: 0.30128706043561426} \n",
      "\n",
      "... with fast-forward re-ranking:\n",
      " {RR(rel=2)@10: 0.8941860465116279, AP(rel=2)@1000: 0.43803324500109636} \n",
      "\n",
      "... with fast-forward re-ranking AND early stopping:\n",
      " {RR(rel=2)@10: 0.8941860465116279}\n"
     ]
    }
   ],
   "source": [
    "from ir_measures import calc_aggregate, AP, RR\n",
    "from fast_forward.util import to_ir_measures\n",
    "\n",
    "print(\n",
    "    \"Lexical retrieval without re-ranking:\\n\",\n",
    "    calc_aggregate(\n",
    "        [AP(rel=2) @ 1000, RR(rel=2) @ 10], dataset.qrels_iter(), to_ir_measures(r)\n",
    "    ),\n",
    "    \"\\n\\n... with fast-forward re-ranking:\\n\",\n",
    "    calc_aggregate(\n",
    "        [AP(rel=2) @ 1000, RR(rel=2) @ 10],\n",
    "        dataset.qrels_iter(),\n",
    "        to_ir_measures(r.interpolate(ff_out, 0.2)),\n",
    "    ),\n",
    "    \"\\n\\n... with fast-forward re-ranking AND early stopping:\\n\",\n",
    "    calc_aggregate(\n",
    "        [RR(rel=2) @ 10],\n",
    "        dataset.qrels_iter(),\n",
    "        to_ir_measures(r.interpolate(ff_out_es, 0.2)),\n",
    "    ),\n",
    ")"
   ]
  }
 ],
 "metadata": {
  "kernelspec": {
   "display_name": "Python 3.8.13 ('ranking')",
   "language": "python",
   "name": "python3"
  },
  "language_info": {
   "codemirror_mode": {
    "name": "ipython",
    "version": 3
   },
   "file_extension": ".py",
   "mimetype": "text/x-python",
   "name": "python",
   "nbconvert_exporter": "python",
   "pygments_lexer": "ipython3",
   "version": "3.10.13"
  },
  "orig_nbformat": 4,
  "vscode": {
   "interpreter": {
    "hash": "e757c603b03bb5364a2e7c54e488a14c8c5b6d905c56042b6aec9e13d3e2c7b2"
   }
  }
 },
 "nbformat": 4,
 "nbformat_minor": 2
}
