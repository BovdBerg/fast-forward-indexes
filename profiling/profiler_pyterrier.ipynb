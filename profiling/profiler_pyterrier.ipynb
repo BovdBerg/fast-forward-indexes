{
 "cells": [
  {
   "cell_type": "markdown",
   "metadata": {},
   "source": [
    "# Please use Google Colab's Notebook instead\n",
    "https://colab.research.google.com/drive/1Fs7WZ5MAZA9N1UXNYPRPjP1s0376rzBb?usp=sharing\n",
    "\n",
    "Note to self: To prevent duplication, copy the Notebook's contents here."
   ]
  }
 ],
 "metadata": {
  "kernelspec": {
   "display_name": "Python 3.8.13 ('ranking')",
   "language": "python",
   "name": "python3"
  },
  "language_info": {
   "codemirror_mode": {
    "name": "ipython",
    "version": 3
   },
   "file_extension": ".py",
   "mimetype": "text/x-python",
   "name": "python",
   "nbconvert_exporter": "python",
   "pygments_lexer": "ipython3",
   "version": "3.10.14"
  },
  "orig_nbformat": 4,
  "vscode": {
   "interpreter": {
    "hash": "e757c603b03bb5364a2e7c54e488a14c8c5b6d905c56042b6aec9e13d3e2c7b2"
   }
  }
 },
 "nbformat": 4,
 "nbformat_minor": 2
}
