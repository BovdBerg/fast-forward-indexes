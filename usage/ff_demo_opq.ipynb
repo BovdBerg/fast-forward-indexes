{
 "cells": [
  {
   "cell_type": "code",
   "execution_count": 1,
   "metadata": {},
   "outputs": [],
   "source": [
    "import logging\n",
    "\n",
    "logging.basicConfig(level=logging.INFO)"
   ]
  },
  {
   "cell_type": "code",
   "execution_count": 2,
   "metadata": {},
   "outputs": [
    {
     "name": "stderr",
     "output_type": "stream",
     "text": [
      "INFO:numexpr.utils:Note: NumExpr detected 10 cores but \"NUMEXPR_MAX_THREADS\" not set, so enforcing safe limit of 8.\n",
      "INFO:numexpr.utils:NumExpr defaulting to 8 threads.\n",
      "INFO:faiss.loader:Loading faiss.\n",
      "INFO:faiss.loader:Successfully loaded faiss.\n",
      "100%|██████████| 8841823/8841823 [00:06<00:00, 1406975.17it/s]\n"
     ]
    }
   ],
   "source": [
    "from pathlib import Path\n",
    "from fast_forward import OnDiskIndex\n",
    "from fast_forward.encoder import TCTColBERTQueryEncoder\n",
    "\n",
    "\n",
    "ff_index = OnDiskIndex.load(\n",
    "    Path(\"ff_msmarco-v1-passage.tct_colbert_opq.h5\"),\n",
    "    TCTColBERTQueryEncoder(\"castorini/tct_colbert-msmarco\", device=\"cpu\"),\n",
    ").to_memory()"
   ]
  },
  {
   "cell_type": "code",
   "execution_count": 3,
   "metadata": {},
   "outputs": [],
   "source": [
    "from fast_forward import Ranking\n",
    "import ir_datasets\n",
    "\n",
    "dataset = ir_datasets.load(\"msmarco-passage/trec-dl-2019/judged\")\n",
    "sparse_top_5k = Ranking.from_file(\n",
    "    Path(\"msmarco-passage-test2019-sparse10000.txt\"),\n",
    "    {q.query_id: q.text for q in dataset.queries_iter()},\n",
    ").cut(5000)"
   ]
  },
  {
   "cell_type": "code",
   "execution_count": 4,
   "metadata": {},
   "outputs": [
    {
     "name": "stderr",
     "output_type": "stream",
     "text": [
      "INFO:fast_forward.index:computed scores in 4.963282166005229 seconds\n"
     ]
    }
   ],
   "source": [
    "# standard re-ranking\n",
    "ff_re_ranked_5k = ff_index(sparse_top_5k)"
   ]
  },
  {
   "cell_type": "code",
   "execution_count": 5,
   "metadata": {},
   "outputs": [
    {
     "name": "stderr",
     "output_type": "stream",
     "text": [
      "INFO:fast_forward.index:depth 500: 43 queries left\n",
      "INFO:fast_forward.index:depth 1000: 16 queries left\n",
      "INFO:fast_forward.index:depth 5000: 12 queries left\n",
      "INFO:fast_forward.index:computed scores in 1.9989375830045901 seconds\n"
     ]
    }
   ],
   "source": [
    "# re-ranking with early stopping\n",
    "ff_re_ranked_5k_es = ff_index(\n",
    "    sparse_top_5k,\n",
    "    early_stopping=10,\n",
    "    early_stopping_alpha=0.2,\n",
    "    early_stopping_depths=(500, 1000, 5000),\n",
    ")"
   ]
  },
  {
   "cell_type": "code",
   "execution_count": 6,
   "metadata": {},
   "outputs": [
    {
     "name": "stdout",
     "output_type": "stream",
     "text": [
      "no re-ranking:\n",
      " {AP(rel=2)@1000: 0.30128706043561426, RR(rel=2)@10: 0.7024178663713547, nDCG@10: 0.5058310024399073} \n",
      "\n",
      "re-ranking:\n",
      " {AP(rel=2)@1000: 0.4502681620775842, RR(rel=2)@10: 0.8981173864894796, nDCG@10: 0.7009168430062368} \n",
      "\n",
      "re-ranking with early stopping:\n",
      " {RR(rel=2)@10: 0.8981173864894796, nDCG@10: 0.7009168430062368}\n"
     ]
    }
   ],
   "source": [
    "from ir_measures import calc_aggregate, AP, RR, nDCG\n",
    "from fast_forward.util import to_ir_measures\n",
    "\n",
    "print(\n",
    "    \"no re-ranking:\\n\",\n",
    "    calc_aggregate(\n",
    "        [nDCG @ 10, RR(rel=2) @ 10, AP(rel=2) @ 1000],\n",
    "        dataset.qrels_iter(),\n",
    "        to_ir_measures(sparse_top_5k),\n",
    "    ),\n",
    "    \"\\n\\nre-ranking:\\n\",\n",
    "    calc_aggregate(\n",
    "        [nDCG @ 10, RR(rel=2) @ 10, AP(rel=2) @ 1000],\n",
    "        dataset.qrels_iter(),\n",
    "        to_ir_measures(sparse_top_5k.interpolate(ff_re_ranked_5k, 0.2)),\n",
    "    ),\n",
    "    \"\\n\\nre-ranking with early stopping:\\n\",\n",
    "    calc_aggregate(\n",
    "        [nDCG @ 10, RR(rel=2) @ 10],\n",
    "        dataset.qrels_iter(),\n",
    "        to_ir_measures(sparse_top_5k.interpolate(ff_re_ranked_5k_es, 0.2)),\n",
    "    ),\n",
    ")"
   ]
  }
 ],
 "metadata": {
  "kernelspec": {
   "display_name": "fastforward",
   "language": "python",
   "name": "python3"
  },
  "language_info": {
   "codemirror_mode": {
    "name": "ipython",
    "version": 3
   },
   "file_extension": ".py",
   "mimetype": "text/x-python",
   "name": "python",
   "nbconvert_exporter": "python",
   "pygments_lexer": "ipython3",
   "version": "3.11.4"
  },
  "orig_nbformat": 4
 },
 "nbformat": 4,
 "nbformat_minor": 2
}
