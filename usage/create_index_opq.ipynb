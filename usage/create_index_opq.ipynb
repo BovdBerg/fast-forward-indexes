{
 "cells": [
  {
   "cell_type": "code",
   "execution_count": 1,
   "metadata": {},
   "outputs": [],
   "source": [
    "import logging\n",
    "\n",
    "logging.basicConfig(level=logging.DEBUG)"
   ]
  },
  {
   "cell_type": "code",
   "execution_count": 2,
   "metadata": {},
   "outputs": [
    {
     "name": "stderr",
     "output_type": "stream",
     "text": [
      "INFO:numexpr.utils:Note: NumExpr detected 10 cores but \"NUMEXPR_MAX_THREADS\" not set, so enforcing safe limit of 8.\n",
      "INFO:numexpr.utils:NumExpr defaulting to 8 threads.\n",
      "DEBUG:h5py._conv:Creating converter from 7 to 5\n",
      "DEBUG:h5py._conv:Creating converter from 5 to 7\n",
      "DEBUG:h5py._conv:Creating converter from 7 to 5\n",
      "DEBUG:h5py._conv:Creating converter from 5 to 7\n",
      "DEBUG:fast_forward.index.disk:reading file ff_msmarco-v1-passage.tct_colbert.h5\n",
      "100%|██████████| 8841823/8841823 [00:06<00:00, 1470583.72it/s]\n",
      "DEBUG:urllib3.connectionpool:Starting new HTTPS connection (1): huggingface.co:443\n",
      "DEBUG:urllib3.connectionpool:https://huggingface.co:443 \"HEAD /castorini/tct_colbert-msmarco/resolve/main/config.json HTTP/1.1\" 200 0\n",
      "DEBUG:urllib3.connectionpool:https://huggingface.co:443 \"HEAD /castorini/tct_colbert-msmarco/resolve/main/tokenizer_config.json HTTP/1.1\" 404 0\n",
      "DEBUG:urllib3.connectionpool:https://huggingface.co:443 \"HEAD /castorini/tct_colbert-msmarco/resolve/main/config.json HTTP/1.1\" 200 0\n",
      "DEBUG:urllib3.connectionpool:https://huggingface.co:443 \"HEAD /castorini/tct_colbert-msmarco/resolve/main/tokenizer_config.json HTTP/1.1\" 404 0\n",
      "DEBUG:urllib3.connectionpool:https://huggingface.co:443 \"HEAD /castorini/tct_colbert-msmarco/resolve/main/vocab.txt HTTP/1.1\" 200 0\n",
      "DEBUG:fast_forward.index.disk:creating file /Users/leonhardt/Downloads/ff_msmarco-v1-passage.tct_colbert_opq.h5\n",
      "DEBUG:h5py._conv:Creating converter from 5 to 3\n"
     ]
    }
   ],
   "source": [
    "from pathlib import Path\n",
    "from fast_forward import OnDiskIndex\n",
    "from fast_forward.encoder.transformer import TCTColBERTQueryEncoder\n",
    "\n",
    "\n",
    "ff_index_source = OnDiskIndex.load(\n",
    "    Path(\"ff_msmarco-v1-passage.tct_colbert.h5\"),\n",
    ")\n",
    "\n",
    "ff_index_target = OnDiskIndex(\n",
    "    Path(\"ff_msmarco-v1-passage.tct_colbert_opq.h5\"),\n",
    "    TCTColBERTQueryEncoder(\"castorini/tct_colbert-msmarco\", device=\"cpu\"),\n",
    "    overwrite=True,\n",
    "    init_size=len(ff_index_source),\n",
    ")"
   ]
  },
  {
   "cell_type": "code",
   "execution_count": 3,
   "metadata": {},
   "outputs": [
    {
     "name": "stderr",
     "output_type": "stream",
     "text": [
      "INFO:faiss.loader:Loading faiss.\n",
      "INFO:faiss.loader:Successfully loaded faiss.\n",
      "WARNING:fast_forward.indexer:inputs will be buffered and index will remain empty until the quantizer has been fit\n",
      "1it [00:00,  3.91it/s]INFO:fast_forward.indexer:fitting quantizer (2 batch(es), batch size 100000)\n",
      "/Users/leonhardt/anaconda3/envs/fastforward/lib/python3.11/site-packages/scipy/cluster/vq.py:602: UserWarning: One of the clusters is empty. Re-run kmeans with a different initialization.\n",
      "  warnings.warn(\"One of the clusters is empty. \"\n",
      "INFO:fast_forward.indexer:adding buffered vectors to index\n",
      "89it [2:02:49, 82.80s/it] \n"
     ]
    }
   ],
   "source": [
    "from fast_forward import Indexer\n",
    "from fast_forward.quantizer.nanopq import NanoOPQ\n",
    "\n",
    "Indexer(\n",
    "    ff_index_target,\n",
    "    quantizer=NanoOPQ(96, 2048),\n",
    "    batch_size=100000,\n",
    "    quantizer_fit_batches=2,\n",
    ").from_index(ff_index_source)"
   ]
  }
 ],
 "metadata": {
  "kernelspec": {
   "display_name": "fastforward",
   "language": "python",
   "name": "python3"
  },
  "language_info": {
   "codemirror_mode": {
    "name": "ipython",
    "version": 3
   },
   "file_extension": ".py",
   "mimetype": "text/x-python",
   "name": "python",
   "nbconvert_exporter": "python",
   "pygments_lexer": "ipython3",
   "version": "3.11.4"
  },
  "orig_nbformat": 4
 },
 "nbformat": 4,
 "nbformat_minor": 2
}
