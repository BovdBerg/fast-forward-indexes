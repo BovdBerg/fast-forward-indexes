{
 "cells": [
  {
   "cell_type": "code",
   "execution_count": 1,
   "metadata": {},
   "outputs": [],
   "source": [
    "### Code is copied directly from:\n",
    "# https://mrjleo.github.io/fast-forward-indexes/docs/v0.3.1/fast_forward/quantizer.html\n",
    "\n",
    "from pathlib import Path\n",
    "\n",
    "import numpy as np\n",
    "\n",
    "from fast_forward import OnDiskIndex\n",
    "from fast_forward.quantizer.nanopq import NanoPQ\n",
    "\n",
    "\n",
    "# in practice, a subset of the encoded corpus should be used as training vectors\n",
    "training_vectors = np.random.normal(size=(2**10, 768)).astype(np.float32)\n",
    "\n",
    "quantizer = NanoPQ(M=8, Ks=256)\n",
    "quantizer.fit(training_vectors)\n",
    "\n",
    "ff_index = OnDiskIndex(Path(\"ff_index_pq_random.h5\"), quantizer=quantizer, overwrite=True)"
   ]
  }
 ],
 "metadata": {
  "kernelspec": {
   "display_name": "ff",
   "language": "python",
   "name": "python3"
  },
  "language_info": {
   "codemirror_mode": {
    "name": "ipython",
    "version": 3
   },
   "file_extension": ".py",
   "mimetype": "text/x-python",
   "name": "python",
   "nbconvert_exporter": "python",
   "pygments_lexer": "ipython3",
   "version": "3.12.3"
  }
 },
 "nbformat": 4,
 "nbformat_minor": 2
}
